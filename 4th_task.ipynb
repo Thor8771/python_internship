{
 "cells": [
  {
   "cell_type": "code",
   "execution_count": 4,
   "metadata": {},
   "outputs": [],
   "source": [
    "import numpy as np"
   ]
  },
  {
   "cell_type": "code",
   "execution_count": 5,
   "metadata": {},
   "outputs": [],
   "source": [
    "fibb=np.zeros(10,dtype='int64')"
   ]
  },
  {
   "cell_type": "code",
   "execution_count": 6,
   "metadata": {},
   "outputs": [
    {
     "data": {
      "text/plain": [
       "array([0, 0, 0, 0, 0, 0, 0, 0, 0, 0], dtype=int64)"
      ]
     },
     "execution_count": 6,
     "metadata": {},
     "output_type": "execute_result"
    }
   ],
   "source": [
    "fibb"
   ]
  },
  {
   "cell_type": "code",
   "execution_count": 7,
   "metadata": {},
   "outputs": [
    {
     "data": {
      "text/plain": [
       "0"
      ]
     },
     "execution_count": 7,
     "metadata": {},
     "output_type": "execute_result"
    }
   ],
   "source": [
    "fibb[1]"
   ]
  },
  {
   "cell_type": "code",
   "execution_count": 8,
   "metadata": {},
   "outputs": [],
   "source": [
    "fibb[0]=0\n",
    "fibb[1]=1"
   ]
  },
  {
   "cell_type": "code",
   "execution_count": 9,
   "metadata": {},
   "outputs": [
    {
     "data": {
      "text/plain": [
       "array([0, 1, 0, 0, 0, 0, 0, 0, 0, 0], dtype=int64)"
      ]
     },
     "execution_count": 9,
     "metadata": {},
     "output_type": "execute_result"
    }
   ],
   "source": [
    "fibb"
   ]
  },
  {
   "cell_type": "code",
   "execution_count": 10,
   "metadata": {},
   "outputs": [],
   "source": [
    "for i in range(2,fibb.size):\n",
    "    fibb[i]=fibb[i-2]+fibb[i-1]\n",
    "    \n",
    "    "
   ]
  },
  {
   "cell_type": "code",
   "execution_count": 11,
   "metadata": {},
   "outputs": [
    {
     "data": {
      "text/plain": [
       "array([ 0,  1,  1,  2,  3,  5,  8, 13, 21, 34], dtype=int64)"
      ]
     },
     "execution_count": 11,
     "metadata": {},
     "output_type": "execute_result"
    }
   ],
   "source": [
    "fibb"
   ]
  },
  {
   "cell_type": "code",
   "execution_count": 12,
   "metadata": {},
   "outputs": [],
   "source": [
    "fibb=fibb.reshape(2,5)"
   ]
  },
  {
   "cell_type": "code",
   "execution_count": 13,
   "metadata": {},
   "outputs": [
    {
     "data": {
      "text/plain": [
       "array([[ 0,  1,  1,  2,  3],\n",
       "       [ 5,  8, 13, 21, 34]], dtype=int64)"
      ]
     },
     "execution_count": 13,
     "metadata": {},
     "output_type": "execute_result"
    }
   ],
   "source": [
    "fibb"
   ]
  },
  {
   "cell_type": "code",
   "execution_count": 14,
   "metadata": {},
   "outputs": [],
   "source": [
    "arr=np.array([[[1,2,3,4],[5,6,7,8]],[[8,7,6,5],[4,3,2,1]]])"
   ]
  },
  {
   "cell_type": "code",
   "execution_count": 15,
   "metadata": {},
   "outputs": [
    {
     "data": {
      "text/plain": [
       "array([[[1, 2, 3, 4],\n",
       "        [5, 6, 7, 8]],\n",
       "\n",
       "       [[8, 7, 6, 5],\n",
       "        [4, 3, 2, 1]]])"
      ]
     },
     "execution_count": 15,
     "metadata": {},
     "output_type": "execute_result"
    }
   ],
   "source": [
    "arr"
   ]
  },
  {
   "cell_type": "code",
   "execution_count": 16,
   "metadata": {},
   "outputs": [
    {
     "data": {
      "text/plain": [
       "3"
      ]
     },
     "execution_count": 16,
     "metadata": {},
     "output_type": "execute_result"
    }
   ],
   "source": [
    "arr.ndim"
   ]
  },
  {
   "cell_type": "code",
   "execution_count": 17,
   "metadata": {},
   "outputs": [],
   "source": [
    "arr1=np.random.randint(low=12,high=45,size=(5,2,2))"
   ]
  },
  {
   "cell_type": "code",
   "execution_count": 18,
   "metadata": {},
   "outputs": [
    {
     "data": {
      "text/plain": [
       "array([[[30, 44],\n",
       "        [38, 19]],\n",
       "\n",
       "       [[25, 22],\n",
       "        [18, 37]],\n",
       "\n",
       "       [[23, 18],\n",
       "        [40, 29]],\n",
       "\n",
       "       [[41, 19],\n",
       "        [22, 44]],\n",
       "\n",
       "       [[27, 15],\n",
       "        [36, 23]]])"
      ]
     },
     "execution_count": 18,
     "metadata": {},
     "output_type": "execute_result"
    }
   ],
   "source": [
    "arr1"
   ]
  },
  {
   "cell_type": "code",
   "execution_count": 19,
   "metadata": {},
   "outputs": [
    {
     "data": {
      "text/plain": [
       "(5, 2, 2)"
      ]
     },
     "execution_count": 19,
     "metadata": {},
     "output_type": "execute_result"
    }
   ],
   "source": [
    "arr1.shape"
   ]
  },
  {
   "cell_type": "code",
   "execution_count": 20,
   "metadata": {},
   "outputs": [
    {
     "data": {
      "text/plain": [
       "3"
      ]
     },
     "execution_count": 20,
     "metadata": {},
     "output_type": "execute_result"
    }
   ],
   "source": [
    "arr1.ndim"
   ]
  },
  {
   "cell_type": "code",
   "execution_count": 23,
   "metadata": {},
   "outputs": [],
   "source": [
    "r=np.random.randint(10,20,(6,6))"
   ]
  },
  {
   "cell_type": "code",
   "execution_count": 24,
   "metadata": {},
   "outputs": [
    {
     "data": {
      "text/plain": [
       "array([[15, 15, 18, 16, 13, 13],\n",
       "       [14, 19, 17, 14, 10, 12],\n",
       "       [16, 16, 12, 17, 19, 10],\n",
       "       [16, 18, 17, 14, 15, 15],\n",
       "       [13, 17, 13, 15, 16, 19],\n",
       "       [19, 13, 17, 19, 13, 16]])"
      ]
     },
     "execution_count": 24,
     "metadata": {},
     "output_type": "execute_result"
    }
   ],
   "source": [
    "r"
   ]
  },
  {
   "cell_type": "code",
   "execution_count": 25,
   "metadata": {},
   "outputs": [
    {
     "data": {
      "text/plain": [
       "array([[15, 15, 18, 16, 13, 13, 14, 19, 17, 14, 10, 12, 16, 16, 12, 17,\n",
       "        19, 10],\n",
       "       [16, 18, 17, 14, 15, 15, 13, 17, 13, 15, 16, 19, 19, 13, 17, 19,\n",
       "        13, 16]])"
      ]
     },
     "execution_count": 25,
     "metadata": {},
     "output_type": "execute_result"
    }
   ],
   "source": [
    "r.reshape(2,18)"
   ]
  },
  {
   "cell_type": "code",
   "execution_count": 26,
   "metadata": {},
   "outputs": [],
   "source": [
    "arr=np.random.randint(1,10,(3,3))"
   ]
  },
  {
   "cell_type": "code",
   "execution_count": 27,
   "metadata": {},
   "outputs": [
    {
     "data": {
      "text/plain": [
       "array([[1, 3, 8],\n",
       "       [9, 7, 9],\n",
       "       [2, 9, 3]])"
      ]
     },
     "execution_count": 27,
     "metadata": {},
     "output_type": "execute_result"
    }
   ],
   "source": [
    "arr"
   ]
  },
  {
   "cell_type": "code",
   "execution_count": 28,
   "metadata": {},
   "outputs": [
    {
     "data": {
      "text/plain": [
       "array([12, 19, 20])"
      ]
     },
     "execution_count": 28,
     "metadata": {},
     "output_type": "execute_result"
    }
   ],
   "source": [
    "arr.sum(axis=0)"
   ]
  },
  {
   "cell_type": "code",
   "execution_count": 29,
   "metadata": {},
   "outputs": [
    {
     "data": {
      "text/plain": [
       "array([12, 25, 14])"
      ]
     },
     "execution_count": 29,
     "metadata": {},
     "output_type": "execute_result"
    }
   ],
   "source": [
    "arr.sum(axis=1)"
   ]
  },
  {
   "cell_type": "code",
   "execution_count": 30,
   "metadata": {},
   "outputs": [
    {
     "data": {
      "text/plain": [
       "array([[0, 0, 2],\n",
       "       [2, 1, 0],\n",
       "       [1, 2, 1]], dtype=int64)"
      ]
     },
     "execution_count": 30,
     "metadata": {},
     "output_type": "execute_result"
    }
   ],
   "source": [
    "arr.argsort(axis=0)"
   ]
  },
  {
   "cell_type": "code",
   "execution_count": 33,
   "metadata": {},
   "outputs": [],
   "source": [
    "y=np.eye(4,5)"
   ]
  },
  {
   "cell_type": "code",
   "execution_count": 34,
   "metadata": {},
   "outputs": [
    {
     "data": {
      "text/plain": [
       "array([[1., 0., 0., 0., 0.],\n",
       "       [0., 1., 0., 0., 0.],\n",
       "       [0., 0., 1., 0., 0.],\n",
       "       [0., 0., 0., 1., 0.]])"
      ]
     },
     "execution_count": 34,
     "metadata": {},
     "output_type": "execute_result"
    }
   ],
   "source": [
    "y"
   ]
  },
  {
   "cell_type": "code",
   "execution_count": 35,
   "metadata": {},
   "outputs": [],
   "source": [
    "arr2=np.random.randint(1,20,(7,6))"
   ]
  },
  {
   "cell_type": "code",
   "execution_count": null,
   "metadata": {},
   "outputs": [],
   "source": []
  },
  {
   "cell_type": "code",
   "execution_count": 36,
   "metadata": {},
   "outputs": [
    {
     "data": {
      "text/plain": [
       "array([[ 4,  7,  4,  1, 17,  7],\n",
       "       [13, 19, 10, 19,  3,  5],\n",
       "       [ 8, 14,  1,  7,  3, 12],\n",
       "       [13, 10, 11,  5,  7,  1],\n",
       "       [12, 16, 14, 17, 10,  1],\n",
       "       [ 3,  7,  7,  2, 17,  6],\n",
       "       [ 3, 17,  6,  7, 17,  5]])"
      ]
     },
     "execution_count": 36,
     "metadata": {},
     "output_type": "execute_result"
    }
   ],
   "source": [
    "arr2"
   ]
  },
  {
   "cell_type": "code",
   "execution_count": 37,
   "metadata": {},
   "outputs": [
    {
     "data": {
      "text/plain": [
       "array([[ 4, 13,  8, 13, 12,  3,  3],\n",
       "       [ 7, 19, 14, 10, 16,  7, 17],\n",
       "       [ 4, 10,  1, 11, 14,  7,  6],\n",
       "       [ 1, 19,  7,  5, 17,  2,  7],\n",
       "       [17,  3,  3,  7, 10, 17, 17],\n",
       "       [ 7,  5, 12,  1,  1,  6,  5]])"
      ]
     },
     "execution_count": 37,
     "metadata": {},
     "output_type": "execute_result"
    }
   ],
   "source": [
    "arr2.T"
   ]
  },
  {
   "cell_type": "code",
   "execution_count": 47,
   "metadata": {},
   "outputs": [],
   "source": [
    "arr3=np.zeros([7,6],dtype='float64')"
   ]
  },
  {
   "cell_type": "code",
   "execution_count": 48,
   "metadata": {},
   "outputs": [
    {
     "data": {
      "text/plain": [
       "array([[0., 0., 0., 0., 0., 0.],\n",
       "       [0., 0., 0., 0., 0., 0.],\n",
       "       [0., 0., 0., 0., 0., 0.],\n",
       "       [0., 0., 0., 0., 0., 0.],\n",
       "       [0., 0., 0., 0., 0., 0.],\n",
       "       [0., 0., 0., 0., 0., 0.],\n",
       "       [0., 0., 0., 0., 0., 0.]])"
      ]
     },
     "execution_count": 48,
     "metadata": {},
     "output_type": "execute_result"
    }
   ],
   "source": [
    "arr3"
   ]
  },
  {
   "cell_type": "code",
   "execution_count": 49,
   "metadata": {},
   "outputs": [
    {
     "data": {
      "text/plain": [
       "array([[ 4,  7,  4,  1, 17,  7],\n",
       "       [13, 19, 10, 19,  3,  5],\n",
       "       [ 8, 14,  1,  7,  3, 12],\n",
       "       [13, 10, 11,  5,  7,  1],\n",
       "       [12, 16, 14, 17, 10,  1],\n",
       "       [ 3,  7,  7,  2, 17,  6],\n",
       "       [ 3, 17,  6,  7, 17,  5]])"
      ]
     },
     "execution_count": 49,
     "metadata": {},
     "output_type": "execute_result"
    }
   ],
   "source": [
    "arr2"
   ]
  },
  {
   "cell_type": "code",
   "execution_count": 52,
   "metadata": {},
   "outputs": [],
   "source": [
    "for i in range(0,7):\n",
    "    for j in range(0,6):\n",
    "        arr3[i,j]=arr2[i,j]*arr2[i,j]*np.pi"
   ]
  },
  {
   "cell_type": "code",
   "execution_count": 53,
   "metadata": {},
   "outputs": [
    {
     "data": {
      "text/plain": [
       "array([[  50.26548246,  153.93804003,   50.26548246,    3.14159265,\n",
       "         907.92027689,  153.93804003],\n",
       "       [ 530.92915846, 1134.11494795,  314.15926536, 1134.11494795,\n",
       "          28.27433388,   78.53981634],\n",
       "       [ 201.06192983,  615.7521601 ,    3.14159265,  153.93804003,\n",
       "          28.27433388,  452.38934212],\n",
       "       [ 530.92915846,  314.15926536,  380.13271108,   78.53981634,\n",
       "         153.93804003,    3.14159265],\n",
       "       [ 452.38934212,  804.24771932,  615.7521601 ,  907.92027689,\n",
       "         314.15926536,    3.14159265],\n",
       "       [  28.27433388,  153.93804003,  153.93804003,   12.56637061,\n",
       "         907.92027689,  113.09733553],\n",
       "       [  28.27433388,  907.92027689,  113.09733553,  153.93804003,\n",
       "         907.92027689,   78.53981634]])"
      ]
     },
     "execution_count": 53,
     "metadata": {},
     "output_type": "execute_result"
    }
   ],
   "source": [
    "arr3"
   ]
  },
  {
   "cell_type": "code",
   "execution_count": 56,
   "metadata": {},
   "outputs": [
    {
     "data": {
      "text/plain": [
       "array([[ 4,  7,  4,  1, 17,  7],\n",
       "       [13, 19, 10, 19,  3,  5],\n",
       "       [ 8, 14,  1,  7,  3, 12],\n",
       "       [13, 10, 11,  5,  7,  1],\n",
       "       [12, 16, 14, 17, 10,  1],\n",
       "       [ 3,  7,  7,  2, 17,  6],\n",
       "       [ 3, 17,  6,  7, 17,  5]])"
      ]
     },
     "execution_count": 56,
     "metadata": {},
     "output_type": "execute_result"
    }
   ],
   "source": [
    "arr2"
   ]
  },
  {
   "cell_type": "code",
   "execution_count": 57,
   "metadata": {},
   "outputs": [
    {
     "data": {
      "text/plain": [
       "7"
      ]
     },
     "execution_count": 57,
     "metadata": {},
     "output_type": "execute_result"
    }
   ],
   "source": [
    "arr2[0,1]"
   ]
  },
  {
   "cell_type": "code",
   "execution_count": 59,
   "metadata": {},
   "outputs": [
    {
     "data": {
      "text/plain": [
       "9"
      ]
     },
     "execution_count": 59,
     "metadata": {},
     "output_type": "execute_result"
    }
   ],
   "source": [
    "arr[1,2]"
   ]
  },
  {
   "cell_type": "code",
   "execution_count": 60,
   "metadata": {},
   "outputs": [
    {
     "data": {
      "text/plain": [
       "array([[ 4,  7,  4,  1, 17,  7],\n",
       "       [13, 19, 10, 19,  3,  5],\n",
       "       [ 8, 14,  1,  7,  3, 12],\n",
       "       [13, 10, 11,  5,  7,  1],\n",
       "       [12, 16, 14, 17, 10,  1],\n",
       "       [ 3,  7,  7,  2, 17,  6],\n",
       "       [ 3, 17,  6,  7, 17,  5]])"
      ]
     },
     "execution_count": 60,
     "metadata": {},
     "output_type": "execute_result"
    }
   ],
   "source": [
    "arr2"
   ]
  },
  {
   "cell_type": "code",
   "execution_count": 67,
   "metadata": {},
   "outputs": [
    {
     "data": {
      "text/plain": [
       "array([[ 7,  4, 17],\n",
       "       [19, 10,  3],\n",
       "       [14,  1,  3],\n",
       "       [10, 11,  7],\n",
       "       [16, 14, 10],\n",
       "       [ 7,  7, 17],\n",
       "       [17,  6, 17]])"
      ]
     },
     "execution_count": 67,
     "metadata": {},
     "output_type": "execute_result"
    }
   ],
   "source": [
    "arr2[:,[1,2,4]]"
   ]
  },
  {
   "cell_type": "code",
   "execution_count": 68,
   "metadata": {},
   "outputs": [
    {
     "data": {
      "text/plain": [
       "array([[ 4,  7,  4,  1, 17,  7],\n",
       "       [13, 19, 10, 19,  3,  5],\n",
       "       [ 8, 14,  1,  7,  3, 12],\n",
       "       [13, 10, 11,  5,  7,  1],\n",
       "       [12, 16, 14, 17, 10,  1],\n",
       "       [ 3,  7,  7,  2, 17,  6],\n",
       "       [ 3, 17,  6,  7, 17,  5]])"
      ]
     },
     "execution_count": 68,
     "metadata": {},
     "output_type": "execute_result"
    }
   ],
   "source": [
    "arr2[:,:]"
   ]
  },
  {
   "cell_type": "code",
   "execution_count": 71,
   "metadata": {},
   "outputs": [
    {
     "data": {
      "text/plain": [
       "array([[17, 10,  1],\n",
       "       [ 2, 17,  6],\n",
       "       [ 7, 17,  5]])"
      ]
     },
     "execution_count": 71,
     "metadata": {},
     "output_type": "execute_result"
    }
   ],
   "source": [
    "arr2[4:,3:]"
   ]
  },
  {
   "cell_type": "code",
   "execution_count": 72,
   "metadata": {},
   "outputs": [
    {
     "data": {
      "text/plain": [
       "array([ 4,  7,  4,  1, 17,  7])"
      ]
     },
     "execution_count": 72,
     "metadata": {},
     "output_type": "execute_result"
    }
   ],
   "source": [
    "arr2[0,0:]"
   ]
  },
  {
   "cell_type": "code",
   "execution_count": 74,
   "metadata": {},
   "outputs": [
    {
     "data": {
      "text/plain": [
       "array([[ 4,  7,  4,  1, 17,  7],\n",
       "       [13, 19, 10, 19,  3,  5],\n",
       "       [ 8, 14,  1,  7,  3, 12],\n",
       "       [13, 10, 11,  5,  7,  1],\n",
       "       [12, 16, 14, 17, 10,  1],\n",
       "       [ 3,  7,  7,  2, 17,  6],\n",
       "       [ 3, 17,  6,  7, 17,  5]])"
      ]
     },
     "execution_count": 74,
     "metadata": {},
     "output_type": "execute_result"
    }
   ],
   "source": [
    "arr2"
   ]
  },
  {
   "cell_type": "code",
   "execution_count": 73,
   "metadata": {},
   "outputs": [
    {
     "data": {
      "text/plain": [
       "array([14,  1,  7,  3, 12])"
      ]
     },
     "execution_count": 73,
     "metadata": {},
     "output_type": "execute_result"
    }
   ],
   "source": [
    "arr2[2,1:]"
   ]
  },
  {
   "cell_type": "code",
   "execution_count": 75,
   "metadata": {},
   "outputs": [
    {
     "data": {
      "text/plain": [
       "array([13,  8, 13])"
      ]
     },
     "execution_count": 75,
     "metadata": {},
     "output_type": "execute_result"
    }
   ],
   "source": [
    "arr2[[1,2,3],0]"
   ]
  },
  {
   "cell_type": "code",
   "execution_count": 76,
   "metadata": {},
   "outputs": [
    {
     "data": {
      "text/plain": [
       "array([[ 4,  7,  4,  1, 17,  7],\n",
       "       [13, 19, 10, 19,  3,  5],\n",
       "       [ 8, 14,  1,  7,  3, 12],\n",
       "       [13, 10, 11,  5,  7,  1],\n",
       "       [12, 16, 14, 17, 10,  1],\n",
       "       [ 3,  7,  7,  2, 17,  6],\n",
       "       [ 3, 17,  6,  7, 17,  5]])"
      ]
     },
     "execution_count": 76,
     "metadata": {},
     "output_type": "execute_result"
    }
   ],
   "source": [
    "arr2"
   ]
  },
  {
   "cell_type": "code",
   "execution_count": 77,
   "metadata": {},
   "outputs": [
    {
     "data": {
      "text/plain": [
       "array([13,  8, 13])"
      ]
     },
     "execution_count": 77,
     "metadata": {},
     "output_type": "execute_result"
    }
   ],
   "source": [
    "arr2[1:4,0]"
   ]
  },
  {
   "cell_type": "code",
   "execution_count": 78,
   "metadata": {},
   "outputs": [
    {
     "data": {
      "text/plain": [
       "array([[ 4,  7,  4,  1, 17,  7],\n",
       "       [13, 19, 10, 19,  3,  5],\n",
       "       [ 8, 14,  1,  7,  3, 12],\n",
       "       [13, 10, 11,  5,  7,  1],\n",
       "       [12, 16, 14, 17, 10,  1],\n",
       "       [ 3,  7,  7,  2, 17,  6],\n",
       "       [ 3, 17,  6,  7, 17,  5]])"
      ]
     },
     "execution_count": 78,
     "metadata": {},
     "output_type": "execute_result"
    }
   ],
   "source": [
    "arr2"
   ]
  },
  {
   "cell_type": "code",
   "execution_count": 80,
   "metadata": {},
   "outputs": [
    {
     "data": {
      "text/plain": [
       "array([[ 7,  4,  1],\n",
       "       [19, 10, 19],\n",
       "       [14,  1,  7],\n",
       "       [10, 11,  5],\n",
       "       [16, 14, 17],\n",
       "       [ 7,  7,  2],\n",
       "       [17,  6,  7]])"
      ]
     },
     "execution_count": 80,
     "metadata": {},
     "output_type": "execute_result"
    }
   ],
   "source": [
    "arr2[:,1:4]"
   ]
  },
  {
   "cell_type": "code",
   "execution_count": 81,
   "metadata": {},
   "outputs": [
    {
     "data": {
      "text/plain": [
       "array([[12, 16, 14, 17, 10,  1],\n",
       "       [ 3,  7,  7,  2, 17,  6],\n",
       "       [ 3, 17,  6,  7, 17,  5]])"
      ]
     },
     "execution_count": 81,
     "metadata": {},
     "output_type": "execute_result"
    }
   ],
   "source": [
    "arr2[-3:,0:]"
   ]
  },
  {
   "cell_type": "code",
   "execution_count": 82,
   "metadata": {},
   "outputs": [
    {
     "data": {
      "text/plain": [
       "array([[ 4,  7,  4,  1, 17,  7],\n",
       "       [13, 19, 10, 19,  3,  5],\n",
       "       [ 8, 14,  1,  7,  3, 12],\n",
       "       [13, 10, 11,  5,  7,  1],\n",
       "       [12, 16, 14, 17, 10,  1],\n",
       "       [ 3,  7,  7,  2, 17,  6],\n",
       "       [ 3, 17,  6,  7, 17,  5]])"
      ]
     },
     "execution_count": 82,
     "metadata": {},
     "output_type": "execute_result"
    }
   ],
   "source": [
    "arr2"
   ]
  },
  {
   "cell_type": "code",
   "execution_count": 83,
   "metadata": {},
   "outputs": [],
   "source": [
    "j=arr2>5# it will perform the condition on all the arr elements"
   ]
  },
  {
   "cell_type": "code",
   "execution_count": 84,
   "metadata": {},
   "outputs": [
    {
     "data": {
      "text/plain": [
       "array([[False,  True, False, False,  True,  True],\n",
       "       [ True,  True,  True,  True, False, False],\n",
       "       [ True,  True, False,  True, False,  True],\n",
       "       [ True,  True,  True, False,  True, False],\n",
       "       [ True,  True,  True,  True,  True, False],\n",
       "       [False,  True,  True, False,  True,  True],\n",
       "       [False,  True,  True,  True,  True, False]])"
      ]
     },
     "execution_count": 84,
     "metadata": {},
     "output_type": "execute_result"
    }
   ],
   "source": [
    "j"
   ]
  },
  {
   "cell_type": "code",
   "execution_count": 85,
   "metadata": {},
   "outputs": [
    {
     "data": {
      "text/plain": [
       "array([[ 4,  7,  4,  1, 17,  7],\n",
       "       [13, 19, 10, 19,  3,  5],\n",
       "       [ 8, 14,  1,  7,  3, 12],\n",
       "       [13, 10, 11,  5,  7,  1],\n",
       "       [12, 16, 14, 17, 10,  1],\n",
       "       [ 3,  7,  7,  2, 17,  6],\n",
       "       [ 3, 17,  6,  7, 17,  5]])"
      ]
     },
     "execution_count": 85,
     "metadata": {},
     "output_type": "execute_result"
    }
   ],
   "source": [
    "arr2"
   ]
  },
  {
   "cell_type": "code",
   "execution_count": 88,
   "metadata": {},
   "outputs": [],
   "source": [
    "arr=np.full((4,3,2),20)"
   ]
  },
  {
   "cell_type": "code",
   "execution_count": 89,
   "metadata": {},
   "outputs": [
    {
     "data": {
      "text/plain": [
       "array([[[20, 20],\n",
       "        [20, 20],\n",
       "        [20, 20]],\n",
       "\n",
       "       [[20, 20],\n",
       "        [20, 20],\n",
       "        [20, 20]],\n",
       "\n",
       "       [[20, 20],\n",
       "        [20, 20],\n",
       "        [20, 20]],\n",
       "\n",
       "       [[20, 20],\n",
       "        [20, 20],\n",
       "        [20, 20]]])"
      ]
     },
     "execution_count": 89,
     "metadata": {},
     "output_type": "execute_result"
    }
   ],
   "source": [
    "arr"
   ]
  },
  {
   "cell_type": "code",
   "execution_count": 93,
   "metadata": {},
   "outputs": [],
   "source": [
    "arr4=np.full((4,4),[9,7,5,9])"
   ]
  },
  {
   "cell_type": "code",
   "execution_count": 94,
   "metadata": {},
   "outputs": [
    {
     "data": {
      "text/plain": [
       "array([[9, 7, 5, 9],\n",
       "       [9, 7, 5, 9],\n",
       "       [9, 7, 5, 9],\n",
       "       [9, 7, 5, 9]])"
      ]
     },
     "execution_count": 94,
     "metadata": {},
     "output_type": "execute_result"
    }
   ],
   "source": [
    "arr4"
   ]
  },
  {
   "cell_type": "code",
   "execution_count": null,
   "metadata": {},
   "outputs": [],
   "source": []
  }
 ],
 "metadata": {
  "kernelspec": {
   "display_name": "Python 3",
   "language": "python",
   "name": "python3"
  },
  "language_info": {
   "codemirror_mode": {
    "name": "ipython",
    "version": 3
   },
   "file_extension": ".py",
   "mimetype": "text/x-python",
   "name": "python",
   "nbconvert_exporter": "python",
   "pygments_lexer": "ipython3",
   "version": "3.10.11"
  }
 },
 "nbformat": 4,
 "nbformat_minor": 2
}
