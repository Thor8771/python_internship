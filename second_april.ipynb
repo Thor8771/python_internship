{
 "cells": [
  {
   "cell_type": "code",
   "execution_count": 1,
   "metadata": {},
   "outputs": [],
   "source": [
    "def verify(username,password):\n",
    "    corret_username=\"shubh\"\n",
    "    correct_password=\"1234\"\n",
    "    try:\n",
    "        if username==corret_username and password ==corret_username:\n",
    "            print(\"verified successfully\")\n",
    "        else:\n",
    "            raise ValueError(\"Incorrect username and password\")\n",
    "    except ValueError as e:\n",
    "        print(e)"
   ]
  },
  {
   "cell_type": "code",
   "execution_count": 3,
   "metadata": {},
   "outputs": [
    {
     "name": "stdout",
     "output_type": "stream",
     "text": [
      "Incorrect username and password\n"
     ]
    }
   ],
   "source": [
    "def main():\n",
    "    username=input(\"enter username\")\n",
    "    password=input(\"enter password\")\n",
    "    verify(username,password)\n",
    "if __name__ ==\"__main__\":\n",
    "    main()"
   ]
  },
  {
   "cell_type": "code",
   "execution_count": null,
   "metadata": {},
   "outputs": [],
   "source": []
  }
 ],
 "metadata": {
  "kernelspec": {
   "display_name": "Python 3",
   "language": "python",
   "name": "python3"
  },
  "language_info": {
   "codemirror_mode": {
    "name": "ipython",
    "version": 3
   },
   "file_extension": ".py",
   "mimetype": "text/x-python",
   "name": "python",
   "nbconvert_exporter": "python",
   "pygments_lexer": "ipython3",
   "version": "3.10.11"
  }
 },
 "nbformat": 4,
 "nbformat_minor": 2
}
